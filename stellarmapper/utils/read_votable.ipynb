{
 "cells": [
  {
   "cell_type": "code",
   "execution_count": 1,
   "metadata": {},
   "outputs": [],
   "source": [
    "from astropy.io.votable import parse_single_table"
   ]
  },
  {
   "cell_type": "code",
   "execution_count": 2,
   "metadata": {},
   "outputs": [],
   "source": [
    "file_path = './data/DR2 DR3 source cross match-result.vot'"
   ]
  },
  {
   "cell_type": "code",
   "execution_count": 3,
   "metadata": {},
   "outputs": [
    {
     "data": {
      "text/plain": [
       "<VOTable length=15693>\n",
       "        DESIGNATION                  designation                 ang_sep        \n",
       "           object                       object                   float64        \n",
       "---------------------------- ---------------------------- ----------------------\n",
       "Gaia DR2 3400904642850801792 Gaia DR3 3400904642850801792  9.223691892839933e-07\n",
       "Gaia DR2 3398880716823578368 Gaia DR3 3398880716823578368 4.1710676836144234e-07\n",
       "Gaia DR2 3398822751945120128 Gaia DR3 3398822751945120128  8.604093418278047e-08\n",
       "Gaia DR2 3350097928520768640 Gaia DR3 3350097928520768640 1.7224777146572485e-07\n",
       "Gaia DR2 3398557735283620224 Gaia DR3 3398557735283620224  5.172380861154544e-08\n",
       "Gaia DR2 3398962248185525248 Gaia DR3 3398962248185525248  1.718538924989055e-07\n",
       "Gaia DR2 3349825283996747136 Gaia DR3 3349825283996747136 1.1785637749829365e-07\n",
       "Gaia DR2 3350658125395928064 Gaia DR3 3350658125395928064  2.045966404231268e-07\n",
       "Gaia DR2 3350380468648400512 Gaia DR3 3350380468648400512  2.268966633555091e-07\n",
       "Gaia DR2 3374390538424405632 Gaia DR3 3374390538424405632 1.4785654683510478e-07\n",
       "                         ...                          ...                    ...\n",
       "Gaia DR2 4152605932050765056 Gaia DR3 4152605932050765056  3.779542261887538e-07\n",
       "Gaia DR2 4146596035854624256 Gaia DR3 4146596035854624256    3.2164550335906e-07\n",
       "Gaia DR2 4146617789867126528 Gaia DR3 4146617789867126528  3.037863090935823e-08\n",
       "Gaia DR2 4146601018023510912 Gaia DR3 4146601018023510912 4.1914988298873657e-07\n",
       "Gaia DR2 4146599746707122688 Gaia DR3 4146599746707122688  5.680673163659841e-07\n",
       "Gaia DR2 4146600472558819200 Gaia DR3 4146600472558819200 2.9689379124564384e-07\n",
       "Gaia DR2 4146598818993604480 Gaia DR3 4146598818993604480  2.949125336597118e-07\n",
       "Gaia DR2 4146600399547025280 Gaia DR3 4146600399547025280 2.6042452960844464e-07\n",
       "Gaia DR2 5940106793062992128 Gaia DR3 5940106793062992128  6.842429556523869e-07\n",
       "Gaia DR2 5940106002789009536 Gaia DR3 5940106002789009536  8.540001726822954e-07"
      ]
     },
     "execution_count": 3,
     "metadata": {},
     "output_type": "execute_result"
    }
   ],
   "source": [
    "file = parse_single_table(file_path)\n",
    "file"
   ]
  },
  {
   "cell_type": "code",
   "execution_count": 4,
   "metadata": {},
   "outputs": [
    {
     "name": "stdout",
     "output_type": "stream",
     "text": [
      "DESIGNATION\n",
      "designation\n",
      "ang_sep\n"
     ]
    }
   ],
   "source": [
    "df = file.to_table().to_pandas()\n",
    "for c in df.columns:\n",
    "    print(c)"
   ]
  },
  {
   "cell_type": "code",
   "execution_count": 5,
   "metadata": {},
   "outputs": [
    {
     "data": {
      "text/plain": [
       "masked_array(data=[('Gaia DR2 3400904642850801792', 'Gaia DR3 3400904642850801792', 9.223691892839933e-07),\n",
       "                   ('Gaia DR2 3398880716823578368', 'Gaia DR3 3398880716823578368', 4.1710676836144234e-07),\n",
       "                   ('Gaia DR2 3398822751945120128', 'Gaia DR3 3398822751945120128', 8.604093418278047e-08),\n",
       "                   ...,\n",
       "                   ('Gaia DR2 4146600399547025280', 'Gaia DR3 4146600399547025280', 2.6042452960844464e-07),\n",
       "                   ('Gaia DR2 5940106793062992128', 'Gaia DR3 5940106793062992128', 6.842429556523869e-07),\n",
       "                   ('Gaia DR2 5940106002789009536', 'Gaia DR3 5940106002789009536', 8.540001726822954e-07)],\n",
       "             mask=[(False, False, False), (False, False, False),\n",
       "                   (False, False, False), ..., (False, False, False),\n",
       "                   (False, False, False), (False, False, False)],\n",
       "       fill_value=(array('?', dtype='<U1'), array('?', dtype='<U1'), 1.e+20),\n",
       "            dtype=(numpy.record, [(('designation 2', 'DESIGNATION'), 'O'), ('designation', 'O'), ('ang_sep', '<f8')]))"
      ]
     },
     "execution_count": 5,
     "metadata": {},
     "output_type": "execute_result"
    }
   ],
   "source": [
    "file.array"
   ]
  }
 ],
 "metadata": {
  "kernelspec": {
   "display_name": ".venv",
   "language": "python",
   "name": "python3"
  },
  "language_info": {
   "codemirror_mode": {
    "name": "ipython",
    "version": 3
   },
   "file_extension": ".py",
   "mimetype": "text/x-python",
   "name": "python",
   "nbconvert_exporter": "python",
   "pygments_lexer": "ipython3",
   "version": "3.10.11"
  }
 },
 "nbformat": 4,
 "nbformat_minor": 2
}
