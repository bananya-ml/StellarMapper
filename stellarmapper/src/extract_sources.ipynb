{
 "cells": [
  {
   "cell_type": "markdown",
   "metadata": {},
   "source": [
    "### A simple notebook outlining how to extract the required source IDs and types from the ALS II catalog."
   ]
  },
  {
   "cell_type": "code",
   "execution_count": 12,
   "metadata": {},
   "outputs": [],
   "source": [
    "import csv\n",
    "import pandas as pd"
   ]
  },
  {
   "cell_type": "code",
   "execution_count": 13,
   "metadata": {},
   "outputs": [],
   "source": [
    "data_dir = './data/ALS ii/als_ii_f.dat'"
   ]
  },
  {
   "cell_type": "code",
   "execution_count": 14,
   "metadata": {},
   "outputs": [],
   "source": [
    "datContent = [i.strip().split() for i in open(data_dir).readlines()]\n",
    "reqValues = [[i[0], i[1], i[2]] for i in datContent]"
   ]
  },
  {
   "cell_type": "code",
   "execution_count": 15,
   "metadata": {},
   "outputs": [],
   "source": [
    "labels = './data/list_of_sources.csv'\n",
    "with open(labels, 'w', newline='') as f:\n",
    "    csv_writer = csv.writer(f)\n",
    "    csv_writer.writerows(reqValues)"
   ]
  },
  {
   "cell_type": "code",
   "execution_count": 16,
   "metadata": {},
   "outputs": [
    {
     "data": {
      "text/html": [
       "<div>\n",
       "<style scoped>\n",
       "    .dataframe tbody tr th:only-of-type {\n",
       "        vertical-align: middle;\n",
       "    }\n",
       "\n",
       "    .dataframe tbody tr th {\n",
       "        vertical-align: top;\n",
       "    }\n",
       "\n",
       "    .dataframe thead th {\n",
       "        text-align: right;\n",
       "    }\n",
       "</style>\n",
       "<table border=\"1\" class=\"dataframe\">\n",
       "  <thead>\n",
       "    <tr style=\"text-align: right;\">\n",
       "      <th></th>\n",
       "      <th>Cat</th>\n",
       "      <th>ID_ALS</th>\n",
       "      <th>ID_DR2</th>\n",
       "    </tr>\n",
       "  </thead>\n",
       "  <tbody>\n",
       "    <tr>\n",
       "      <th>0</th>\n",
       "      <td>M</td>\n",
       "      <td>1</td>\n",
       "      <td>3400904642850801792</td>\n",
       "    </tr>\n",
       "    <tr>\n",
       "      <th>1</th>\n",
       "      <td>M</td>\n",
       "      <td>2</td>\n",
       "      <td>3398880716823578368</td>\n",
       "    </tr>\n",
       "    <tr>\n",
       "      <th>2</th>\n",
       "      <td>M</td>\n",
       "      <td>3</td>\n",
       "      <td>3398822751945120128</td>\n",
       "    </tr>\n",
       "    <tr>\n",
       "      <th>3</th>\n",
       "      <td>M</td>\n",
       "      <td>4</td>\n",
       "      <td>3350097928520768640</td>\n",
       "    </tr>\n",
       "    <tr>\n",
       "      <th>4</th>\n",
       "      <td>M</td>\n",
       "      <td>5</td>\n",
       "      <td>3398557735283620224</td>\n",
       "    </tr>\n",
       "    <tr>\n",
       "      <th>...</th>\n",
       "      <td>...</td>\n",
       "      <td>...</td>\n",
       "      <td>...</td>\n",
       "    </tr>\n",
       "    <tr>\n",
       "      <th>15657</th>\n",
       "      <td>I</td>\n",
       "      <td>20143</td>\n",
       "      <td>4146600472558819200</td>\n",
       "    </tr>\n",
       "    <tr>\n",
       "      <th>15658</th>\n",
       "      <td>I</td>\n",
       "      <td>20145</td>\n",
       "      <td>4146598818993604480</td>\n",
       "    </tr>\n",
       "    <tr>\n",
       "      <th>15659</th>\n",
       "      <td>I</td>\n",
       "      <td>20147</td>\n",
       "      <td>4146600399547025280</td>\n",
       "    </tr>\n",
       "    <tr>\n",
       "      <th>15660</th>\n",
       "      <td>M</td>\n",
       "      <td>20151</td>\n",
       "      <td>5940106793062992128</td>\n",
       "    </tr>\n",
       "    <tr>\n",
       "      <th>15661</th>\n",
       "      <td>M</td>\n",
       "      <td>20164</td>\n",
       "      <td>5940106002789009536</td>\n",
       "    </tr>\n",
       "  </tbody>\n",
       "</table>\n",
       "<p>15662 rows × 3 columns</p>\n",
       "</div>"
      ],
      "text/plain": [
       "      Cat  ID_ALS               ID_DR2\n",
       "0       M       1  3400904642850801792\n",
       "1       M       2  3398880716823578368\n",
       "2       M       3  3398822751945120128\n",
       "3       M       4  3350097928520768640\n",
       "4       M       5  3398557735283620224\n",
       "...    ..     ...                  ...\n",
       "15657   I   20143  4146600472558819200\n",
       "15658   I   20145  4146598818993604480\n",
       "15659   I   20147  4146600399547025280\n",
       "15660   M   20151  5940106793062992128\n",
       "15661   M   20164  5940106002789009536\n",
       "\n",
       "[15662 rows x 3 columns]"
      ]
     },
     "execution_count": 16,
     "metadata": {},
     "output_type": "execute_result"
    }
   ],
   "source": [
    "df = pd.read_csv(labels)\n",
    "df"
   ]
  },
  {
   "cell_type": "code",
   "execution_count": 22,
   "metadata": {},
   "outputs": [
    {
     "data": {
      "text/plain": [
       "0        Gaia DR2 3400904642850801792\n",
       "1        Gaia DR2 3398880716823578368\n",
       "2        Gaia DR2 3398822751945120128\n",
       "3        Gaia DR2 3350097928520768640\n",
       "4        Gaia DR2 3398557735283620224\n",
       "                     ...             \n",
       "15657    Gaia DR2 4146600472558819200\n",
       "15658    Gaia DR2 4146598818993604480\n",
       "15659    Gaia DR2 4146600399547025280\n",
       "15660    Gaia DR2 5940106793062992128\n",
       "15661    Gaia DR2 5940106002789009536\n",
       "Name: ID_DR2, Length: 15662, dtype: object"
      ]
     },
     "execution_count": 22,
     "metadata": {},
     "output_type": "execute_result"
    }
   ],
   "source": [
    "sources = 'Gaia DR2 ' + df['ID_DR2'].astype(str)\n",
    "sources.to_csv('./data/sources_dr2.csv', index=False, header=False)\n",
    "sources"
   ]
  }
 ],
 "metadata": {
  "kernelspec": {
   "display_name": ".venv",
   "language": "python",
   "name": "python3"
  },
  "language_info": {
   "codemirror_mode": {
    "name": "ipython",
    "version": 3
   },
   "file_extension": ".py",
   "mimetype": "text/x-python",
   "name": "python",
   "nbconvert_exporter": "python",
   "pygments_lexer": "ipython3",
   "version": "3.10.11"
  }
 },
 "nbformat": 4,
 "nbformat_minor": 2
}
