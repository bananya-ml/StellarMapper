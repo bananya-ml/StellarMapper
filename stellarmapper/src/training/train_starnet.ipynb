{
 "cells": [
  {
   "cell_type": "markdown",
   "metadata": {},
   "source": [
    "# Import packages"
   ]
  },
  {
   "cell_type": "code",
   "execution_count": 1,
   "metadata": {},
   "outputs": [],
   "source": [
    "import sys\n",
    "import os\n",
    "sys.path.append('../../') # Add the root directory to sys.path"
   ]
  },
  {
   "cell_type": "code",
   "execution_count": 2,
   "metadata": {},
   "outputs": [],
   "source": [
    "import pandas as pd\n",
    "from stellarmapper.models.starnet import StarNet\n",
    "import numpy as np"
   ]
  },
  {
   "cell_type": "markdown",
   "metadata": {},
   "source": [
    "## Read data"
   ]
  },
  {
   "cell_type": "code",
   "execution_count": 3,
   "metadata": {},
   "outputs": [
    {
     "data": {
      "text/plain": [
       "\"\\ndf_xp = pd.read_parquet('../../datasets/Gaia DR3/df_xp.parquet')\\ndf_xp\\n\""
      ]
     },
     "execution_count": 3,
     "metadata": {},
     "output_type": "execute_result"
    }
   ],
   "source": [
    "'''\n",
    "df_xp = pd.read_parquet('../../datasets/Gaia DR3/df_xp.parquet')\n",
    "df_xp\n",
    "'''"
   ]
  },
  {
   "cell_type": "code",
   "execution_count": 4,
   "metadata": {},
   "outputs": [
    {
     "data": {
      "text/plain": [
       "\"\\ndata_dir = '../../datasets/Gaia DR3/XP'\\nfiles = [file for file in glob.glob(data_dir + '/*.vot')]\\n\\ndict = {}\\npattern = r'_(\\\\d+)\\\\.vot$'\\n\\nfor file in files:\\n    match = re.search(pattern, os.path.basename(file))\\n    numeric_id = match.group(1)\\n    df = parse_single_table(file).to_table().to_pandas()        \\n    dict[numeric_id] = df['flux'].values\\n\""
      ]
     },
     "execution_count": 4,
     "metadata": {},
     "output_type": "execute_result"
    }
   ],
   "source": [
    "'''\n",
    "data_dir = '../../datasets/Gaia DR3/XP'\n",
    "files = [file for file in glob.glob(data_dir + '/*.vot')]\n",
    "\n",
    "dict = {}\n",
    "pattern = r'_(\\d+)\\.vot$'\n",
    "\n",
    "for file in files:\n",
    "    match = re.search(pattern, os.path.basename(file))\n",
    "    numeric_id = match.group(1)\n",
    "    df = parse_single_table(file).to_table().to_pandas()        \n",
    "    dict[numeric_id] = df['flux'].values\n",
    "''' "
   ]
  },
  {
   "cell_type": "code",
   "execution_count": 5,
   "metadata": {},
   "outputs": [
    {
     "data": {
      "text/plain": [
       "'\\ndf_xp.dropna(inplace=True)\\ndf_xp.reset_index(inplace=True, drop=True)\\ndf_xp\\n'"
      ]
     },
     "execution_count": 5,
     "metadata": {},
     "output_type": "execute_result"
    }
   ],
   "source": [
    "'''\n",
    "df_xp.dropna(inplace=True)\n",
    "df_xp.reset_index(inplace=True, drop=True)\n",
    "df_xp\n",
    "'''"
   ]
  },
  {
   "cell_type": "code",
   "execution_count": 6,
   "metadata": {},
   "outputs": [
    {
     "data": {
      "text/html": [
       "<div>\n",
       "<style scoped>\n",
       "    .dataframe tbody tr th:only-of-type {\n",
       "        vertical-align: middle;\n",
       "    }\n",
       "\n",
       "    .dataframe tbody tr th {\n",
       "        vertical-align: top;\n",
       "    }\n",
       "\n",
       "    .dataframe thead th {\n",
       "        text-align: right;\n",
       "    }\n",
       "</style>\n",
       "<table border=\"1\" class=\"dataframe\">\n",
       "  <thead>\n",
       "    <tr style=\"text-align: right;\">\n",
       "      <th></th>\n",
       "      <th>source_id</th>\n",
       "      <th>teff_gspphot</th>\n",
       "      <th>logg_gspphot</th>\n",
       "      <th>mh_gspphot</th>\n",
       "      <th>spectraltype_esphs</th>\n",
       "      <th>Cat</th>\n",
       "      <th>flux</th>\n",
       "    </tr>\n",
       "  </thead>\n",
       "  <tbody>\n",
       "    <tr>\n",
       "      <th>0</th>\n",
       "      <td>466475508969557888</td>\n",
       "      <td>18411.494141</td>\n",
       "      <td>3.5385</td>\n",
       "      <td>-0.3139</td>\n",
       "      <td>B</td>\n",
       "      <td>M</td>\n",
       "      <td>[1.4043112e-15, 1.3886055e-15, 1.3119094e-15, ...</td>\n",
       "    </tr>\n",
       "    <tr>\n",
       "      <th>1</th>\n",
       "      <td>3325513363920961408</td>\n",
       "      <td>16151.836914</td>\n",
       "      <td>3.7164</td>\n",
       "      <td>0.0395</td>\n",
       "      <td>B</td>\n",
       "      <td>M</td>\n",
       "      <td>[1.4678052e-15, 1.3982165e-15, 1.3334084e-15, ...</td>\n",
       "    </tr>\n",
       "    <tr>\n",
       "      <th>2</th>\n",
       "      <td>3375508943611375488</td>\n",
       "      <td>18823.841797</td>\n",
       "      <td>3.4316</td>\n",
       "      <td>0.2918</td>\n",
       "      <td>B</td>\n",
       "      <td>M</td>\n",
       "      <td>[1.0764202e-15, 1.0605224e-15, 1.0162869e-15, ...</td>\n",
       "    </tr>\n",
       "    <tr>\n",
       "      <th>3</th>\n",
       "      <td>4063973032805550592</td>\n",
       "      <td>15295.044922</td>\n",
       "      <td>3.4026</td>\n",
       "      <td>0.0999</td>\n",
       "      <td>G</td>\n",
       "      <td>M</td>\n",
       "      <td>[9.53517e-16, 9.214246e-16, 8.3622285e-16, 7.9...</td>\n",
       "    </tr>\n",
       "    <tr>\n",
       "      <th>4</th>\n",
       "      <td>454379128715344896</td>\n",
       "      <td>13149.229492</td>\n",
       "      <td>3.8305</td>\n",
       "      <td>-0.9505</td>\n",
       "      <td>B</td>\n",
       "      <td>LM</td>\n",
       "      <td>[6.8294334e-16, 6.693247e-16, 6.1780524e-16, 5...</td>\n",
       "    </tr>\n",
       "    <tr>\n",
       "      <th>...</th>\n",
       "      <td>...</td>\n",
       "      <td>...</td>\n",
       "      <td>...</td>\n",
       "      <td>...</td>\n",
       "      <td>...</td>\n",
       "      <td>...</td>\n",
       "      <td>...</td>\n",
       "    </tr>\n",
       "    <tr>\n",
       "      <th>17622</th>\n",
       "      <td>5912596947718581760</td>\n",
       "      <td>4950.860352</td>\n",
       "      <td>3.2933</td>\n",
       "      <td>-0.2100</td>\n",
       "      <td>K</td>\n",
       "      <td>LM</td>\n",
       "      <td>[1.6002952e-17, 1.2129033e-17, 1.1508219e-17, ...</td>\n",
       "    </tr>\n",
       "    <tr>\n",
       "      <th>17623</th>\n",
       "      <td>5912764520164418048</td>\n",
       "      <td>5681.474121</td>\n",
       "      <td>4.5653</td>\n",
       "      <td>-0.1923</td>\n",
       "      <td>G</td>\n",
       "      <td>LM</td>\n",
       "      <td>[3.2488726e-17, 3.4947448e-17, 3.4823675e-17, ...</td>\n",
       "    </tr>\n",
       "    <tr>\n",
       "      <th>17624</th>\n",
       "      <td>5912764520164428032</td>\n",
       "      <td>6002.563477</td>\n",
       "      <td>4.2886</td>\n",
       "      <td>-0.4792</td>\n",
       "      <td>G</td>\n",
       "      <td>LM</td>\n",
       "      <td>[2.4685083e-17, 1.9302198e-17, 1.853873e-17, 1...</td>\n",
       "    </tr>\n",
       "    <tr>\n",
       "      <th>17625</th>\n",
       "      <td>2263622213680760320</td>\n",
       "      <td>5369.893555</td>\n",
       "      <td>4.0945</td>\n",
       "      <td>-0.1173</td>\n",
       "      <td>K</td>\n",
       "      <td>LM</td>\n",
       "      <td>[6.071518e-17, 5.3783307e-17, 5.0137515e-17, 4...</td>\n",
       "    </tr>\n",
       "    <tr>\n",
       "      <th>17626</th>\n",
       "      <td>2267040732770074752</td>\n",
       "      <td>6542.524414</td>\n",
       "      <td>3.9794</td>\n",
       "      <td>-0.4272</td>\n",
       "      <td>F</td>\n",
       "      <td>LM</td>\n",
       "      <td>[1.1166598e-16, 1.1612557e-16, 1.1379129e-16, ...</td>\n",
       "    </tr>\n",
       "  </tbody>\n",
       "</table>\n",
       "<p>17627 rows × 7 columns</p>\n",
       "</div>"
      ],
      "text/plain": [
       "                 source_id  teff_gspphot  logg_gspphot  mh_gspphot  \\\n",
       "0       466475508969557888  18411.494141        3.5385     -0.3139   \n",
       "1      3325513363920961408  16151.836914        3.7164      0.0395   \n",
       "2      3375508943611375488  18823.841797        3.4316      0.2918   \n",
       "3      4063973032805550592  15295.044922        3.4026      0.0999   \n",
       "4       454379128715344896  13149.229492        3.8305     -0.9505   \n",
       "...                    ...           ...           ...         ...   \n",
       "17622  5912596947718581760   4950.860352        3.2933     -0.2100   \n",
       "17623  5912764520164418048   5681.474121        4.5653     -0.1923   \n",
       "17624  5912764520164428032   6002.563477        4.2886     -0.4792   \n",
       "17625  2263622213680760320   5369.893555        4.0945     -0.1173   \n",
       "17626  2267040732770074752   6542.524414        3.9794     -0.4272   \n",
       "\n",
       "      spectraltype_esphs Cat  \\\n",
       "0                      B   M   \n",
       "1                      B   M   \n",
       "2                      B   M   \n",
       "3                      G   M   \n",
       "4                      B  LM   \n",
       "...                  ...  ..   \n",
       "17622                  K  LM   \n",
       "17623                  G  LM   \n",
       "17624                  G  LM   \n",
       "17625                  K  LM   \n",
       "17626                  F  LM   \n",
       "\n",
       "                                                    flux  \n",
       "0      [1.4043112e-15, 1.3886055e-15, 1.3119094e-15, ...  \n",
       "1      [1.4678052e-15, 1.3982165e-15, 1.3334084e-15, ...  \n",
       "2      [1.0764202e-15, 1.0605224e-15, 1.0162869e-15, ...  \n",
       "3      [9.53517e-16, 9.214246e-16, 8.3622285e-16, 7.9...  \n",
       "4      [6.8294334e-16, 6.693247e-16, 6.1780524e-16, 5...  \n",
       "...                                                  ...  \n",
       "17622  [1.6002952e-17, 1.2129033e-17, 1.1508219e-17, ...  \n",
       "17623  [3.2488726e-17, 3.4947448e-17, 3.4823675e-17, ...  \n",
       "17624  [2.4685083e-17, 1.9302198e-17, 1.853873e-17, 1...  \n",
       "17625  [6.071518e-17, 5.3783307e-17, 5.0137515e-17, 4...  \n",
       "17626  [1.1166598e-16, 1.1612557e-16, 1.1379129e-16, ...  \n",
       "\n",
       "[17627 rows x 7 columns]"
      ]
     },
     "execution_count": 6,
     "metadata": {},
     "output_type": "execute_result"
    }
   ],
   "source": [
    "df_xp = pd.read_parquet('./dataset.parquet')\n",
    "df_xp"
   ]
  },
  {
   "cell_type": "code",
   "execution_count": 7,
   "metadata": {},
   "outputs": [],
   "source": [
    "#df_xp['Cat'].value_counts().plot(kind='bar')"
   ]
  },
  {
   "cell_type": "markdown",
   "metadata": {},
   "source": [
    "## Classification"
   ]
  },
  {
   "cell_type": "code",
   "execution_count": 8,
   "metadata": {},
   "outputs": [
    {
     "data": {
      "text/html": [
       "<div>\n",
       "<style scoped>\n",
       "    .dataframe tbody tr th:only-of-type {\n",
       "        vertical-align: middle;\n",
       "    }\n",
       "\n",
       "    .dataframe tbody tr th {\n",
       "        vertical-align: top;\n",
       "    }\n",
       "\n",
       "    .dataframe thead th {\n",
       "        text-align: right;\n",
       "    }\n",
       "</style>\n",
       "<table border=\"1\" class=\"dataframe\">\n",
       "  <thead>\n",
       "    <tr style=\"text-align: right;\">\n",
       "      <th></th>\n",
       "      <th>Cat</th>\n",
       "      <th>flux</th>\n",
       "    </tr>\n",
       "  </thead>\n",
       "  <tbody>\n",
       "    <tr>\n",
       "      <th>0</th>\n",
       "      <td>M</td>\n",
       "      <td>[1.4043112e-15, 1.3886055e-15, 1.3119094e-15, ...</td>\n",
       "    </tr>\n",
       "    <tr>\n",
       "      <th>1</th>\n",
       "      <td>M</td>\n",
       "      <td>[1.4678052e-15, 1.3982165e-15, 1.3334084e-15, ...</td>\n",
       "    </tr>\n",
       "    <tr>\n",
       "      <th>2</th>\n",
       "      <td>M</td>\n",
       "      <td>[1.0764202e-15, 1.0605224e-15, 1.0162869e-15, ...</td>\n",
       "    </tr>\n",
       "    <tr>\n",
       "      <th>3</th>\n",
       "      <td>M</td>\n",
       "      <td>[9.53517e-16, 9.214246e-16, 8.3622285e-16, 7.9...</td>\n",
       "    </tr>\n",
       "    <tr>\n",
       "      <th>4</th>\n",
       "      <td>LM</td>\n",
       "      <td>[6.8294334e-16, 6.693247e-16, 6.1780524e-16, 5...</td>\n",
       "    </tr>\n",
       "    <tr>\n",
       "      <th>...</th>\n",
       "      <td>...</td>\n",
       "      <td>...</td>\n",
       "    </tr>\n",
       "    <tr>\n",
       "      <th>17622</th>\n",
       "      <td>LM</td>\n",
       "      <td>[1.6002952e-17, 1.2129033e-17, 1.1508219e-17, ...</td>\n",
       "    </tr>\n",
       "    <tr>\n",
       "      <th>17623</th>\n",
       "      <td>LM</td>\n",
       "      <td>[3.2488726e-17, 3.4947448e-17, 3.4823675e-17, ...</td>\n",
       "    </tr>\n",
       "    <tr>\n",
       "      <th>17624</th>\n",
       "      <td>LM</td>\n",
       "      <td>[2.4685083e-17, 1.9302198e-17, 1.853873e-17, 1...</td>\n",
       "    </tr>\n",
       "    <tr>\n",
       "      <th>17625</th>\n",
       "      <td>LM</td>\n",
       "      <td>[6.071518e-17, 5.3783307e-17, 5.0137515e-17, 4...</td>\n",
       "    </tr>\n",
       "    <tr>\n",
       "      <th>17626</th>\n",
       "      <td>LM</td>\n",
       "      <td>[1.1166598e-16, 1.1612557e-16, 1.1379129e-16, ...</td>\n",
       "    </tr>\n",
       "  </tbody>\n",
       "</table>\n",
       "<p>17627 rows × 2 columns</p>\n",
       "</div>"
      ],
      "text/plain": [
       "      Cat                                               flux\n",
       "0       M  [1.4043112e-15, 1.3886055e-15, 1.3119094e-15, ...\n",
       "1       M  [1.4678052e-15, 1.3982165e-15, 1.3334084e-15, ...\n",
       "2       M  [1.0764202e-15, 1.0605224e-15, 1.0162869e-15, ...\n",
       "3       M  [9.53517e-16, 9.214246e-16, 8.3622285e-16, 7.9...\n",
       "4      LM  [6.8294334e-16, 6.693247e-16, 6.1780524e-16, 5...\n",
       "...    ..                                                ...\n",
       "17622  LM  [1.6002952e-17, 1.2129033e-17, 1.1508219e-17, ...\n",
       "17623  LM  [3.2488726e-17, 3.4947448e-17, 3.4823675e-17, ...\n",
       "17624  LM  [2.4685083e-17, 1.9302198e-17, 1.853873e-17, 1...\n",
       "17625  LM  [6.071518e-17, 5.3783307e-17, 5.0137515e-17, 4...\n",
       "17626  LM  [1.1166598e-16, 1.1612557e-16, 1.1379129e-16, ...\n",
       "\n",
       "[17627 rows x 2 columns]"
      ]
     },
     "execution_count": 8,
     "metadata": {},
     "output_type": "execute_result"
    }
   ],
   "source": [
    "cols_to_be_dropped = ['source_id', 'teff_gspphot', 'logg_gspphot','mh_gspphot', 'spectraltype_esphs']\n",
    "data = df_xp.drop(cols_to_be_dropped, axis=1, inplace=False)\n",
    "data"
   ]
  },
  {
   "cell_type": "code",
   "execution_count": 9,
   "metadata": {},
   "outputs": [
    {
     "data": {
      "text/plain": [
       "Cat\n",
       "LM    11026\n",
       "M      6601\n",
       "Name: count, dtype: int64"
      ]
     },
     "execution_count": 9,
     "metadata": {},
     "output_type": "execute_result"
    }
   ],
   "source": [
    "df_xp['Cat'].value_counts()"
   ]
  },
  {
   "cell_type": "code",
   "execution_count": 10,
   "metadata": {},
   "outputs": [],
   "source": [
    "from collections import Counter\n",
    "from torch.utils.data import WeightedRandomSampler\n",
    "\n",
    "counter = Counter(data['Cat'].to_numpy())\n",
    "\n",
    "weight_map = {label: 1./count for label, count in counter.items()}\n",
    "\n",
    "sampler = WeightedRandomSampler(weights=[weight_map[label] for label in data['Cat'].to_numpy()], num_samples=len(data), replacement=True)"
   ]
  },
  {
   "cell_type": "code",
   "execution_count": 11,
   "metadata": {},
   "outputs": [
    {
     "data": {
      "text/plain": [
       "'\\nimport matplotlib.pyplot as plt\\n\\n# Customize the plot\\nplt.figure(figsize=(20, 7))\\n\\nfor i, row in df_xp.iterrows():\\n    if i > 30:\\n        break\\n    else:\\n        spec = row[:342]\\n\\n        color = \\'blue\\' if row[\\'Cat\\'] == \\'M\\' else \\'orange\\'\\n        spec.plot(color=color, label=f\\'Row {i + 1} - Category: {row[\"Cat\"]}\\')  \\n\\nplt.title(\\'Line Plot for the First 5 Rows\\')\\nplt.xlabel(\\'Column Index\\')\\nplt.ylabel(\\'Value\\')\\nplt.show()\\n'"
      ]
     },
     "execution_count": 11,
     "metadata": {},
     "output_type": "execute_result"
    }
   ],
   "source": [
    "'''\n",
    "import matplotlib.pyplot as plt\n",
    "\n",
    "# Customize the plot\n",
    "plt.figure(figsize=(20, 7))\n",
    "\n",
    "for i, row in df_xp.iterrows():\n",
    "    if i > 30:\n",
    "        break\n",
    "    else:\n",
    "        spec = row[:342]\n",
    "\n",
    "        color = 'blue' if row['Cat'] == 'M' else 'orange'\n",
    "        spec.plot(color=color, label=f'Row {i + 1} - Category: {row[\"Cat\"]}')  \n",
    "\n",
    "plt.title('Line Plot for the First 5 Rows')\n",
    "plt.xlabel('Column Index')\n",
    "plt.ylabel('Value')\n",
    "plt.show()\n",
    "'''"
   ]
  },
  {
   "cell_type": "code",
   "execution_count": 12,
   "metadata": {},
   "outputs": [],
   "source": [
    "# Set target column 1 for 'M' and 0 for 'LM'\n",
    "data['Cat'] = data['Cat'].apply(lambda x: 1 if x == 'M' else 0)"
   ]
  },
  {
   "cell_type": "code",
   "execution_count": 13,
   "metadata": {},
   "outputs": [],
   "source": [
    "X = np.vstack(data['flux'])\n",
    "y = np.vstack(data['Cat'])\n",
    "\n",
    "split = 0.8\n",
    "train_size = int(len(data) * split)\n",
    "\n",
    "X_train, X_test = np.split(X, [train_size])\n",
    "y_train, y_test = np.split(y, [train_size])"
   ]
  },
  {
   "cell_type": "code",
   "execution_count": null,
   "metadata": {},
   "outputs": [],
   "source": [
    "min = np.min(X)\n",
    "max = np.max(X)\n",
    "\n",
    "X_train = (X_train - min) / (max - min)"
   ]
  },
  {
   "cell_type": "code",
   "execution_count": null,
   "metadata": {},
   "outputs": [],
   "source": [
    "num_labels = y_train.shape[1]\n",
    "num_fluxes = X_train.shape[1]\n",
    "\n",
    "print(\"Each spectrum contains\", num_fluxes, \"wavelength bins.\")\n",
    "print(\"Training set includes\", X_train.shape[0], \"spectra.\")\n",
    "print(\"Validation set includes\", X_test.shape[0], \"spectra.\")"
   ]
  },
  {
   "cell_type": "code",
   "execution_count": null,
   "metadata": {},
   "outputs": [],
   "source": [
    "model = StarNet(num_fluxes=num_fluxes, epochs = 10000, num_labels=num_labels, learning_rate=7e-6, prt_interval = 100, batch_size=32)\n",
    "train_loss, val_loss = model.fit(X_train, y_train)"
   ]
  },
  {
   "cell_type": "code",
   "execution_count": null,
   "metadata": {},
   "outputs": [],
   "source": [
    "save_dir = '../trained_models'\n",
    "model.save_model(save_dir)"
   ]
  },
  {
   "cell_type": "markdown",
   "metadata": {},
   "source": [
    "## Regression"
   ]
  },
  {
   "cell_type": "code",
   "execution_count": null,
   "metadata": {},
   "outputs": [],
   "source": [
    "cols_to_be_dropped = ['source_id', 'spectraltype_esphs', 'Cat']\n",
    "data = df_xp.drop(cols_to_be_dropped, axis=1, inplace=False)\n",
    "data"
   ]
  },
  {
   "cell_type": "code",
   "execution_count": null,
   "metadata": {},
   "outputs": [],
   "source": [
    "X = np.vstack(data['flux'])\n",
    "y = data[['teff_gspphot', 'logg_gspphot', 'mh_gspphot']].to_numpy()\n",
    "\n",
    "split = 0.8\n",
    "\n",
    "train_size = int(len(data) * split)\n",
    "\n",
    "X_train, X_test = np.split(X, [train_size])\n",
    "y_train, y_test = np.split(y, [train_size])"
   ]
  },
  {
   "cell_type": "code",
   "execution_count": null,
   "metadata": {},
   "outputs": [],
   "source": [
    "# normalize training labels before training\n",
    "def normalize(labels):\n",
    "    return (labels - mean) / std\n",
    "\n",
    "mean = np.array([np.mean(y[:,0]), np.mean(y[:,1]), np.mean(y[:,2])])\n",
    "std = np.array([np.std(y[:,0]), np.std(y[:,1]), np.std(y[:,2])])\n",
    "\n",
    "y_train = normalize(y_train)\n",
    "y_train"
   ]
  },
  {
   "cell_type": "code",
   "execution_count": null,
   "metadata": {},
   "outputs": [],
   "source": [
    "min = np.min(X)\n",
    "max = np.max(X)\n",
    "\n",
    "X_train = (X_train - min) / (max - min)"
   ]
  },
  {
   "cell_type": "code",
   "execution_count": null,
   "metadata": {},
   "outputs": [],
   "source": [
    "num_labels = y_train.shape[1]\n",
    "num_fluxes = X_train.shape[1]\n",
    "\n",
    "print(\"Each spectrum contains\", num_fluxes, \"wavelength bins.\")\n",
    "print(\"Training set includes\", X_train.shape[0], \"spectra.\")\n",
    "print(\"Validation set includes\", X_test.shape[0], \"spectra.\")"
   ]
  },
  {
   "cell_type": "code",
   "execution_count": null,
   "metadata": {},
   "outputs": [],
   "source": [
    "model = StarNet(num_fluxes=num_fluxes, epochs = 1000, num_labels=num_labels, learning_rate=7e-6, prt_interval = 100)\n",
    "model.fit(X_train, y_train)"
   ]
  }
 ],
 "metadata": {
  "kernelspec": {
   "display_name": ".venv",
   "language": "python",
   "name": "python3"
  },
  "language_info": {
   "codemirror_mode": {
    "name": "ipython",
    "version": 3
   },
   "file_extension": ".py",
   "mimetype": "text/x-python",
   "name": "python",
   "nbconvert_exporter": "python",
   "pygments_lexer": "ipython3",
   "version": "3.10.0"
  }
 },
 "nbformat": 4,
 "nbformat_minor": 2
}
